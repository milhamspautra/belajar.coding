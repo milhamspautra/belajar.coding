{
 "cells": [
  {
   "cell_type": "code",
   "execution_count": 1,
   "id": "7b0d6fab-2eb3-440c-8749-19f67c320ce9",
   "metadata": {},
   "outputs": [
    {
     "name": "stderr",
     "output_type": "stream",
     "text": [
      "/usr/lib/python3/dist-packages/scipy/__init__.py:146: UserWarning: A NumPy version >=1.17.3 and <1.25.0 is required for this version of SciPy (detected version 1.26.4\n",
      "  warnings.warn(f\"A NumPy version >={np_minversion} and <{np_maxversion}\"\n"
     ]
    }
   ],
   "source": [
    "import pandas as pd\n",
    "import matplotlib.pyplot as plt\n",
    "import seaborn as sns"
   ]
  },
  {
   "cell_type": "code",
   "execution_count": 2,
   "id": "6f79cb96-1885-49bb-9f4b-27ca294c0d6c",
   "metadata": {},
   "outputs": [],
   "source": [
    "data = pd.read_csv('coding-class-assets/IPL_2018.csv')"
   ]
  },
  {
   "cell_type": "code",
   "execution_count": 3,
   "id": "f1a6fae5-dddc-437f-950f-696bf87beb1f",
   "metadata": {},
   "outputs": [
    {
     "data": {
      "text/html": [
       "<div>\n",
       "<style scoped>\n",
       "    .dataframe tbody tr th:only-of-type {\n",
       "        vertical-align: middle;\n",
       "    }\n",
       "\n",
       "    .dataframe tbody tr th {\n",
       "        vertical-align: top;\n",
       "    }\n",
       "\n",
       "    .dataframe thead th {\n",
       "        text-align: right;\n",
       "    }\n",
       "</style>\n",
       "<table border=\"1\" class=\"dataframe\">\n",
       "  <thead>\n",
       "    <tr style=\"text-align: right;\">\n",
       "      <th></th>\n",
       "      <th>PLAYER</th>\n",
       "      <th>Matches</th>\n",
       "      <th>Innings</th>\n",
       "      <th>NotOut</th>\n",
       "      <th>TotalRuns</th>\n",
       "      <th>HighScore</th>\n",
       "      <th>Avgerage</th>\n",
       "      <th>BF</th>\n",
       "      <th>StrikeRate</th>\n",
       "      <th>X100</th>\n",
       "      <th>...</th>\n",
       "      <th>Overs</th>\n",
       "      <th>RunsGiven</th>\n",
       "      <th>Wkts</th>\n",
       "      <th>BBI</th>\n",
       "      <th>Avg.y</th>\n",
       "      <th>Econonmy</th>\n",
       "      <th>SR.y</th>\n",
       "      <th>X4w</th>\n",
       "      <th>X5w</th>\n",
       "      <th>y</th>\n",
       "    </tr>\n",
       "  </thead>\n",
       "  <tbody>\n",
       "    <tr>\n",
       "      <th>138</th>\n",
       "      <td>Siddarth Kaul</td>\n",
       "      <td>0</td>\n",
       "      <td>0</td>\n",
       "      <td>0</td>\n",
       "      <td>0</td>\n",
       "      <td>0</td>\n",
       "      <td>0</td>\n",
       "      <td>0</td>\n",
       "      <td>0.0</td>\n",
       "      <td>0</td>\n",
       "      <td>...</td>\n",
       "      <td>66.0</td>\n",
       "      <td>547</td>\n",
       "      <td>21</td>\n",
       "      <td>0</td>\n",
       "      <td>26.04</td>\n",
       "      <td>8.28</td>\n",
       "      <td>18.85</td>\n",
       "      <td>0</td>\n",
       "      <td>0</td>\n",
       "      <td>0</td>\n",
       "    </tr>\n",
       "    <tr>\n",
       "      <th>139</th>\n",
       "      <td>Trent Boult</td>\n",
       "      <td>0</td>\n",
       "      <td>0</td>\n",
       "      <td>0</td>\n",
       "      <td>0</td>\n",
       "      <td>0</td>\n",
       "      <td>0</td>\n",
       "      <td>0</td>\n",
       "      <td>0.0</td>\n",
       "      <td>0</td>\n",
       "      <td>...</td>\n",
       "      <td>52.4</td>\n",
       "      <td>466</td>\n",
       "      <td>18</td>\n",
       "      <td>0</td>\n",
       "      <td>25.88</td>\n",
       "      <td>8.84</td>\n",
       "      <td>17.55</td>\n",
       "      <td>0</td>\n",
       "      <td>0</td>\n",
       "      <td>0</td>\n",
       "    </tr>\n",
       "    <tr>\n",
       "      <th>140</th>\n",
       "      <td>Umesh Yadav</td>\n",
       "      <td>0</td>\n",
       "      <td>0</td>\n",
       "      <td>0</td>\n",
       "      <td>0</td>\n",
       "      <td>0</td>\n",
       "      <td>0</td>\n",
       "      <td>0</td>\n",
       "      <td>0.0</td>\n",
       "      <td>0</td>\n",
       "      <td>...</td>\n",
       "      <td>53.1</td>\n",
       "      <td>418</td>\n",
       "      <td>20</td>\n",
       "      <td>0</td>\n",
       "      <td>20.9</td>\n",
       "      <td>7.86</td>\n",
       "      <td>15.95</td>\n",
       "      <td>0</td>\n",
       "      <td>0</td>\n",
       "      <td>0</td>\n",
       "    </tr>\n",
       "    <tr>\n",
       "      <th>141</th>\n",
       "      <td>Vi0y Kumar</td>\n",
       "      <td>0</td>\n",
       "      <td>0</td>\n",
       "      <td>0</td>\n",
       "      <td>0</td>\n",
       "      <td>0</td>\n",
       "      <td>0</td>\n",
       "      <td>0</td>\n",
       "      <td>0.0</td>\n",
       "      <td>0</td>\n",
       "      <td>...</td>\n",
       "      <td>3.5</td>\n",
       "      <td>65</td>\n",
       "      <td>2</td>\n",
       "      <td>0</td>\n",
       "      <td>32.5</td>\n",
       "      <td>16.95</td>\n",
       "      <td>11.5</td>\n",
       "      <td>0</td>\n",
       "      <td>0</td>\n",
       "      <td>0</td>\n",
       "    </tr>\n",
       "    <tr>\n",
       "      <th>142</th>\n",
       "      <td>Yuzvendra Chahal</td>\n",
       "      <td>0</td>\n",
       "      <td>0</td>\n",
       "      <td>0</td>\n",
       "      <td>0</td>\n",
       "      <td>0</td>\n",
       "      <td>0</td>\n",
       "      <td>0</td>\n",
       "      <td>0.0</td>\n",
       "      <td>0</td>\n",
       "      <td>...</td>\n",
       "      <td>50.0</td>\n",
       "      <td>363</td>\n",
       "      <td>12</td>\n",
       "      <td>0</td>\n",
       "      <td>30.25</td>\n",
       "      <td>7.26</td>\n",
       "      <td>25</td>\n",
       "      <td>0</td>\n",
       "      <td>0</td>\n",
       "      <td>0</td>\n",
       "    </tr>\n",
       "  </tbody>\n",
       "</table>\n",
       "<p>5 rows × 25 columns</p>\n",
       "</div>"
      ],
      "text/plain": [
       "               PLAYER  Matches  Innings  NotOut  TotalRuns  HighScore  \\\n",
       "138     Siddarth Kaul        0        0       0          0          0   \n",
       "139       Trent Boult        0        0       0          0          0   \n",
       "140       Umesh Yadav        0        0       0          0          0   \n",
       "141        Vi0y Kumar        0        0       0          0          0   \n",
       "142  Yuzvendra Chahal        0        0       0          0          0   \n",
       "\n",
       "    Avgerage  BF  StrikeRate  X100  ...  Overs  RunsGiven  Wkts  BBI  Avg.y  \\\n",
       "138        0   0         0.0     0  ...   66.0        547    21    0  26.04   \n",
       "139        0   0         0.0     0  ...   52.4        466    18    0  25.88   \n",
       "140        0   0         0.0     0  ...   53.1        418    20    0   20.9   \n",
       "141        0   0         0.0     0  ...    3.5         65     2    0   32.5   \n",
       "142        0   0         0.0     0  ...   50.0        363    12    0  30.25   \n",
       "\n",
       "     Econonmy   SR.y  X4w  X5w  y  \n",
       "138      8.28  18.85    0    0  0  \n",
       "139      8.84  17.55    0    0  0  \n",
       "140      7.86  15.95    0    0  0  \n",
       "141     16.95   11.5    0    0  0  \n",
       "142      7.26     25    0    0  0  \n",
       "\n",
       "[5 rows x 25 columns]"
      ]
     },
     "execution_count": 3,
     "metadata": {},
     "output_type": "execute_result"
    }
   ],
   "source": [
    "data.tail()"
   ]
  },
  {
   "cell_type": "code",
   "execution_count": 4,
   "id": "11d984e5-69dc-4d02-9ff4-75f3c54ae746",
   "metadata": {},
   "outputs": [
    {
     "name": "stdout",
     "output_type": "stream",
     "text": [
      "<class 'pandas.core.frame.DataFrame'>\n",
      "RangeIndex: 143 entries, 0 to 142\n",
      "Data columns (total 25 columns):\n",
      " #   Column      Non-Null Count  Dtype  \n",
      "---  ------      --------------  -----  \n",
      " 0   PLAYER      143 non-null    object \n",
      " 1   Matches     143 non-null    int64  \n",
      " 2   Innings     143 non-null    int64  \n",
      " 3   NotOut      143 non-null    int64  \n",
      " 4   TotalRuns   143 non-null    int64  \n",
      " 5   HighScore   143 non-null    int64  \n",
      " 6   Avgerage    143 non-null    object \n",
      " 7   BF          143 non-null    int64  \n",
      " 8   StrikeRate  143 non-null    float64\n",
      " 9   X100        143 non-null    int64  \n",
      " 10  X50         143 non-null    int64  \n",
      " 11  X4s         143 non-null    int64  \n",
      " 12  X6s         143 non-null    int64  \n",
      " 13  Mat.y       143 non-null    int64  \n",
      " 14  Inns.y      143 non-null    int64  \n",
      " 15  Overs       143 non-null    float64\n",
      " 16  RunsGiven   143 non-null    int64  \n",
      " 17  Wkts        143 non-null    int64  \n",
      " 18  BBI         143 non-null    int64  \n",
      " 19  Avg.y       143 non-null    object \n",
      " 20  Econonmy    143 non-null    float64\n",
      " 21  SR.y        143 non-null    object \n",
      " 22  X4w         143 non-null    int64  \n",
      " 23  X5w         143 non-null    int64  \n",
      " 24  y           143 non-null    int64  \n",
      "dtypes: float64(3), int64(18), object(4)\n",
      "memory usage: 28.1+ KB\n"
     ]
    }
   ],
   "source": [
    "data.info()"
   ]
  },
  {
   "cell_type": "code",
   "execution_count": 5,
   "id": "d5647ce8-9567-4080-a2e7-214090ebadc2",
   "metadata": {},
   "outputs": [
    {
     "data": {
      "text/plain": [
       "(143, 25)"
      ]
     },
     "execution_count": 5,
     "metadata": {},
     "output_type": "execute_result"
    }
   ],
   "source": [
    "data.shape"
   ]
  },
  {
   "cell_type": "code",
   "execution_count": 7,
   "id": "b05357d8-cce8-4989-8e40-1818d81e6a6a",
   "metadata": {},
   "outputs": [],
   "source": [
    "data = pd.read_csv('coding-class-assets/review.csv')"
   ]
  },
  {
   "cell_type": "code",
   "execution_count": 9,
   "id": "fe4dff68-74ca-48a2-88fe-777cf186e331",
   "metadata": {},
   "outputs": [
    {
     "data": {
      "text/html": [
       "<div>\n",
       "<style scoped>\n",
       "    .dataframe tbody tr th:only-of-type {\n",
       "        vertical-align: middle;\n",
       "    }\n",
       "\n",
       "    .dataframe tbody tr th {\n",
       "        vertical-align: top;\n",
       "    }\n",
       "\n",
       "    .dataframe thead th {\n",
       "        text-align: right;\n",
       "    }\n",
       "</style>\n",
       "<table border=\"1\" class=\"dataframe\">\n",
       "  <thead>\n",
       "    <tr style=\"text-align: right;\">\n",
       "      <th></th>\n",
       "      <th>Review</th>\n",
       "      <th>Rating</th>\n",
       "    </tr>\n",
       "  </thead>\n",
       "  <tbody>\n",
       "    <tr>\n",
       "      <th>20486</th>\n",
       "      <td>best kept secret 3rd time staying charm, not 5...</td>\n",
       "      <td>5</td>\n",
       "    </tr>\n",
       "    <tr>\n",
       "      <th>20487</th>\n",
       "      <td>great location price view hotel great quick pl...</td>\n",
       "      <td>4</td>\n",
       "    </tr>\n",
       "    <tr>\n",
       "      <th>20488</th>\n",
       "      <td>ok just looks nice modern outside, desk staff ...</td>\n",
       "      <td>2</td>\n",
       "    </tr>\n",
       "    <tr>\n",
       "      <th>20489</th>\n",
       "      <td>hotel theft ruined vacation hotel opened sept ...</td>\n",
       "      <td>1</td>\n",
       "    </tr>\n",
       "    <tr>\n",
       "      <th>20490</th>\n",
       "      <td>people talking, ca n't believe excellent ratin...</td>\n",
       "      <td>2</td>\n",
       "    </tr>\n",
       "  </tbody>\n",
       "</table>\n",
       "</div>"
      ],
      "text/plain": [
       "                                                  Review  Rating\n",
       "20486  best kept secret 3rd time staying charm, not 5...       5\n",
       "20487  great location price view hotel great quick pl...       4\n",
       "20488  ok just looks nice modern outside, desk staff ...       2\n",
       "20489  hotel theft ruined vacation hotel opened sept ...       1\n",
       "20490  people talking, ca n't believe excellent ratin...       2"
      ]
     },
     "execution_count": 9,
     "metadata": {},
     "output_type": "execute_result"
    }
   ],
   "source": [
    "data.tail()"
   ]
  },
  {
   "cell_type": "code",
   "execution_count": 11,
   "id": "ee8cfdab-b5e3-4e74-82e0-d3541727929c",
   "metadata": {},
   "outputs": [
    {
     "data": {
      "text/plain": [
       "'nice hotel expensive parking got good deal stay hotel anniversary, arrived late evening took advice previous reviews did valet parking, check quick easy, little disappointed non-existent view room room clean nice size, bed comfortable woke stiff neck high pillows, not soundproof like heard music room night morning loud bangs doors opening closing hear people talking hallway, maybe just noisy neighbors, aveda bath products nice, did not goldfish stay nice touch taken advantage staying longer, location great walking distance shopping, overall nice experience having pay 40 parking night,  '"
      ]
     },
     "execution_count": 11,
     "metadata": {},
     "output_type": "execute_result"
    }
   ],
   "source": [
    "data['Review'][0]"
   ]
  },
  {
   "cell_type": "code",
   "execution_count": null,
   "id": "9f4303bb-4bc0-4cf4-a70c-9036ccf5a0d9",
   "metadata": {},
   "outputs": [],
   "source": []
  }
 ],
 "metadata": {
  "kernelspec": {
   "display_name": "Python 3 (ipykernel)",
   "language": "python",
   "name": "python3"
  },
  "language_info": {
   "codemirror_mode": {
    "name": "ipython",
    "version": 3
   },
   "file_extension": ".py",
   "mimetype": "text/x-python",
   "name": "python",
   "nbconvert_exporter": "python",
   "pygments_lexer": "ipython3",
   "version": "3.10.12"
  }
 },
 "nbformat": 4,
 "nbformat_minor": 5
}
