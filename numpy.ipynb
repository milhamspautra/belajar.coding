{
 "cells": [
  {
   "cell_type": "code",
   "execution_count": 14,
   "id": "9257f593-4d09-4184-9dcf-c7f92b7bc201",
   "metadata": {},
   "outputs": [],
   "source": [
    "import pandas as pd\n",
    "import matplotlib.pyplot as plt\n",
    "import numpy as np"
   ]
  },
  {
   "cell_type": "code",
   "execution_count": 15,
   "id": "76089541-9194-4f40-a165-50b9922b0edb",
   "metadata": {},
   "outputs": [],
   "source": [
    "x1=np.random.randint(1,10, size=7)"
   ]
  },
  {
   "cell_type": "code",
   "execution_count": 16,
   "id": "eacd59c2-6e46-4a2f-83d7-24f895d71078",
   "metadata": {},
   "outputs": [],
   "source": [
    "x2=np.random.randint(1,10, size=(3,7))"
   ]
  },
  {
   "cell_type": "code",
   "execution_count": 17,
   "id": "f909da40-4030-444b-ae32-bf41c5ca0156",
   "metadata": {},
   "outputs": [],
   "source": [
    "x3=np.random.randint(1,10, size=(2,3,7))"
   ]
  },
  {
   "cell_type": "code",
   "execution_count": 18,
   "id": "d601ea8b-3baf-4f9f-9b1d-339845644ce7",
   "metadata": {
    "scrolled": true
   },
   "outputs": [],
   "source": [
    "x4=np.random.randint(1,10, size=(4,2,3,7))"
   ]
  },
  {
   "cell_type": "code",
   "execution_count": 22,
   "id": "0de235a6-1194-4615-b230-bccba0ae609b",
   "metadata": {},
   "outputs": [
    {
     "data": {
      "text/plain": [
       "array([1, 7, 3, 4, 7, 3, 6])"
      ]
     },
     "execution_count": 22,
     "metadata": {},
     "output_type": "execute_result"
    }
   ],
   "source": [
    "x1"
   ]
  },
  {
   "cell_type": "code",
   "execution_count": 24,
   "id": "f1a3d2c2-8fc1-4d39-a759-471c916ee2cb",
   "metadata": {},
   "outputs": [
    {
     "data": {
      "text/plain": [
       "3"
      ]
     },
     "execution_count": 24,
     "metadata": {},
     "output_type": "execute_result"
    }
   ],
   "source": [
    "x1[2]"
   ]
  },
  {
   "cell_type": "code",
   "execution_count": 25,
   "id": "176539ef-4a2f-4d7b-a1a7-c5e093c89a3e",
   "metadata": {},
   "outputs": [
    {
     "data": {
      "text/plain": [
       "array([3, 4, 7])"
      ]
     },
     "execution_count": 25,
     "metadata": {},
     "output_type": "execute_result"
    }
   ],
   "source": [
    "x1[2:5]"
   ]
  },
  {
   "cell_type": "code",
   "execution_count": 27,
   "id": "6a439ffb-8843-4dc6-89e1-e5389894c277",
   "metadata": {},
   "outputs": [
    {
     "data": {
      "text/plain": [
       "array([[5, 3, 4, 9, 9, 2, 8],\n",
       "       [5, 5, 3, 9, 9, 1, 4]])"
      ]
     },
     "execution_count": 27,
     "metadata": {},
     "output_type": "execute_result"
    }
   ],
   "source": [
    "x2[0:2]"
   ]
  },
  {
   "cell_type": "code",
   "execution_count": 29,
   "id": "ceded05c-f4df-4f8c-ae12-52fe8db01185",
   "metadata": {},
   "outputs": [
    {
     "data": {
      "text/plain": [
       "array([[9, 2, 8],\n",
       "       [9, 1, 4]])"
      ]
     },
     "execution_count": 29,
     "metadata": {},
     "output_type": "execute_result"
    }
   ],
   "source": [
    "x2[0:2, 4:]"
   ]
  },
  {
   "cell_type": "code",
   "execution_count": 30,
   "id": "fc6d7252-91da-4c5c-8ec1-5abe962ee9b7",
   "metadata": {},
   "outputs": [
    {
     "data": {
      "text/plain": [
       "array([[[8, 6, 1, 5, 6, 6, 4],\n",
       "        [4, 1, 1, 5, 3, 5, 7],\n",
       "        [5, 6, 6, 7, 4, 7, 3]],\n",
       "\n",
       "       [[1, 5, 4, 1, 9, 3, 4],\n",
       "        [5, 3, 1, 5, 7, 5, 5],\n",
       "        [6, 2, 6, 1, 1, 8, 3]]])"
      ]
     },
     "execution_count": 30,
     "metadata": {},
     "output_type": "execute_result"
    }
   ],
   "source": [
    "x3"
   ]
  },
  {
   "cell_type": "code",
   "execution_count": 31,
   "id": "52b66e87-e623-4ba8-9393-f87a77c5d4f9",
   "metadata": {},
   "outputs": [
    {
     "data": {
      "text/plain": [
       "array([[[8, 6, 1, 5, 6, 6, 4],\n",
       "        [4, 1, 1, 5, 3, 5, 7],\n",
       "        [5, 6, 6, 7, 4, 7, 3]],\n",
       "\n",
       "       [[1, 5, 4, 1, 9, 3, 4],\n",
       "        [5, 3, 1, 5, 7, 5, 5],\n",
       "        [6, 2, 6, 1, 1, 8, 3]]])"
      ]
     },
     "execution_count": 31,
     "metadata": {},
     "output_type": "execute_result"
    }
   ],
   "source": [
    "x3[0:3]"
   ]
  },
  {
   "cell_type": "code",
   "execution_count": 32,
   "id": "5560095c-1245-4ceb-8ace-42e13dd1f797",
   "metadata": {},
   "outputs": [
    {
     "data": {
      "text/plain": [
       "array([[[1, 5, 4, 1, 9, 3, 4],\n",
       "        [5, 3, 1, 5, 7, 5, 5],\n",
       "        [6, 2, 6, 1, 1, 8, 3]]])"
      ]
     },
     "execution_count": 32,
     "metadata": {},
     "output_type": "execute_result"
    }
   ],
   "source": [
    "x3[1:2]"
   ]
  },
  {
   "cell_type": "code",
   "execution_count": 33,
   "id": "7f8003ac-c7bf-4aab-935d-386e28cd1373",
   "metadata": {},
   "outputs": [
    {
     "data": {
      "text/plain": [
       "array([[[8, 6, 1, 5, 6, 6, 4],\n",
       "        [4, 1, 1, 5, 3, 5, 7],\n",
       "        [5, 6, 6, 7, 4, 7, 3]],\n",
       "\n",
       "       [[1, 5, 4, 1, 9, 3, 4],\n",
       "        [5, 3, 1, 5, 7, 5, 5],\n",
       "        [6, 2, 6, 1, 1, 8, 3]]])"
      ]
     },
     "execution_count": 33,
     "metadata": {},
     "output_type": "execute_result"
    }
   ],
   "source": [
    "x3[0:2]"
   ]
  },
  {
   "cell_type": "code",
   "execution_count": 38,
   "id": "9abfe2cd-6640-4185-ba96-65849c8c6f93",
   "metadata": {},
   "outputs": [
    {
     "data": {
      "text/plain": [
       "array([[4, 1, 1, 5, 3, 5, 7],\n",
       "       [5, 3, 1, 5, 7, 5, 5]])"
      ]
     },
     "execution_count": 38,
     "metadata": {},
     "output_type": "execute_result"
    }
   ],
   "source": [
    "x3[0:2, 1]"
   ]
  },
  {
   "cell_type": "code",
   "execution_count": 42,
   "id": "ea606cb3-7830-4bd8-b28e-0221576bc11c",
   "metadata": {},
   "outputs": [
    {
     "data": {
      "text/plain": [
       "array([[5, 3],\n",
       "       [5, 7]])"
      ]
     },
     "execution_count": 42,
     "metadata": {},
     "output_type": "execute_result"
    }
   ],
   "source": [
    "x3[0:2, 1,3:5]"
   ]
  },
  {
   "cell_type": "code",
   "execution_count": 43,
   "id": "a42ca90b-5350-4335-8271-b4ccaddd4dc0",
   "metadata": {},
   "outputs": [
    {
     "data": {
      "text/plain": [
       "array([[[[1, 1, 7, 3, 1, 1, 1],\n",
       "         [8, 9, 2, 7, 7, 9, 8],\n",
       "         [4, 1, 1, 9, 5, 3, 7]],\n",
       "\n",
       "        [[9, 9, 1, 3, 2, 5, 7],\n",
       "         [2, 8, 2, 4, 2, 8, 4],\n",
       "         [5, 5, 3, 9, 2, 6, 4]]],\n",
       "\n",
       "\n",
       "       [[[8, 2, 7, 7, 1, 9, 2],\n",
       "         [9, 9, 4, 7, 9, 9, 3],\n",
       "         [2, 5, 7, 1, 7, 7, 4]],\n",
       "\n",
       "        [[8, 2, 5, 3, 8, 3, 7],\n",
       "         [9, 9, 2, 2, 6, 2, 9],\n",
       "         [4, 1, 8, 2, 1, 2, 7]]],\n",
       "\n",
       "\n",
       "       [[[2, 9, 4, 4, 3, 4, 9],\n",
       "         [2, 9, 4, 9, 2, 8, 3],\n",
       "         [4, 6, 1, 6, 8, 6, 7]],\n",
       "\n",
       "        [[1, 8, 5, 7, 2, 3, 3],\n",
       "         [4, 2, 8, 3, 9, 2, 4],\n",
       "         [9, 8, 7, 4, 6, 5, 9]]],\n",
       "\n",
       "\n",
       "       [[[1, 2, 6, 4, 9, 5, 8],\n",
       "         [7, 2, 8, 4, 8, 5, 7],\n",
       "         [1, 8, 7, 5, 7, 6, 6]],\n",
       "\n",
       "        [[7, 4, 8, 4, 2, 2, 3],\n",
       "         [2, 1, 7, 9, 4, 5, 2],\n",
       "         [3, 5, 4, 1, 1, 9, 3]]]])"
      ]
     },
     "execution_count": 43,
     "metadata": {},
     "output_type": "execute_result"
    }
   ],
   "source": [
    "x4"
   ]
  },
  {
   "cell_type": "code",
   "execution_count": 45,
   "id": "c8efdb69-f604-4b2b-aa94-e5e0a29f7428",
   "metadata": {},
   "outputs": [
    {
     "data": {
      "text/plain": [
       "array([[[[1, 1, 7, 3, 1, 1, 1],\n",
       "         [8, 9, 2, 7, 7, 9, 8],\n",
       "         [4, 1, 1, 9, 5, 3, 7]],\n",
       "\n",
       "        [[9, 9, 1, 3, 2, 5, 7],\n",
       "         [2, 8, 2, 4, 2, 8, 4],\n",
       "         [5, 5, 3, 9, 2, 6, 4]]],\n",
       "\n",
       "\n",
       "       [[[8, 2, 7, 7, 1, 9, 2],\n",
       "         [9, 9, 4, 7, 9, 9, 3],\n",
       "         [2, 5, 7, 1, 7, 7, 4]],\n",
       "\n",
       "        [[8, 2, 5, 3, 8, 3, 7],\n",
       "         [9, 9, 2, 2, 6, 2, 9],\n",
       "         [4, 1, 8, 2, 1, 2, 7]]],\n",
       "\n",
       "\n",
       "       [[[2, 9, 4, 4, 3, 4, 9],\n",
       "         [2, 9, 4, 9, 2, 8, 3],\n",
       "         [4, 6, 1, 6, 8, 6, 7]],\n",
       "\n",
       "        [[1, 8, 5, 7, 2, 3, 3],\n",
       "         [4, 2, 8, 3, 9, 2, 4],\n",
       "         [9, 8, 7, 4, 6, 5, 9]]],\n",
       "\n",
       "\n",
       "       [[[1, 2, 6, 4, 9, 5, 8],\n",
       "         [7, 2, 8, 4, 8, 5, 7],\n",
       "         [1, 8, 7, 5, 7, 6, 6]],\n",
       "\n",
       "        [[7, 4, 8, 4, 2, 2, 3],\n",
       "         [2, 1, 7, 9, 4, 5, 2],\n",
       "         [3, 5, 4, 1, 1, 9, 3]]]])"
      ]
     },
     "execution_count": 45,
     "metadata": {},
     "output_type": "execute_result"
    }
   ],
   "source": [
    "x4[0:4]"
   ]
  },
  {
   "cell_type": "code",
   "execution_count": 46,
   "id": "686f972c-127e-49ff-8fc7-b9c11f5181e6",
   "metadata": {},
   "outputs": [
    {
     "data": {
      "text/plain": [
       "array([[[4, 1, 1, 9, 5, 3, 7]],\n",
       "\n",
       "       [[2, 5, 7, 1, 7, 7, 4]],\n",
       "\n",
       "       [[4, 6, 1, 6, 8, 6, 7]],\n",
       "\n",
       "       [[1, 8, 7, 5, 7, 6, 6]]])"
      ]
     },
     "execution_count": 46,
     "metadata": {},
     "output_type": "execute_result"
    }
   ],
   "source": [
    "x4[0:4, 0,2:3]"
   ]
  },
  {
   "cell_type": "code",
   "execution_count": 5,
   "id": "dd43b4c0-7ccc-47b5-8585-0cb59d625eaf",
   "metadata": {},
   "outputs": [
    {
     "ename": "NameError",
     "evalue": "name 'x3' is not defined",
     "output_type": "error",
     "traceback": [
      "\u001b[0;31m---------------------------------------------------------------------------\u001b[0m",
      "\u001b[0;31mNameError\u001b[0m                                 Traceback (most recent call last)",
      "Cell \u001b[0;32mIn[5], line 1\u001b[0m\n\u001b[0;32m----> 1\u001b[0m \u001b[43mx3\u001b[49m[\u001b[38;5;241m0\u001b[39m:\u001b[38;5;241m4\u001b[39m,\u001b[38;5;241m0\u001b[39m:\u001b[38;5;241m3\u001b[39m,\u001b[38;5;241m0\u001b[39m:\u001b[38;5;241m2\u001b[39m,\u001b[38;5;241m2\u001b[39m:\u001b[38;5;241m4\u001b[39m]\n",
      "\u001b[0;31mNameError\u001b[0m: name 'x3' is not defined"
     ]
    }
   ],
   "source": [
    "x3[0:4,0:3,0:2,2:4]"
   ]
  },
  {
   "cell_type": "code",
   "execution_count": null,
   "id": "90dc46a8-a679-4b8c-b2f1-65c54fc4b500",
   "metadata": {},
   "outputs": [],
   "source": []
  }
 ],
 "metadata": {
  "kernelspec": {
   "display_name": "Python 3 (ipykernel)",
   "language": "python",
   "name": "python3"
  },
  "language_info": {
   "codemirror_mode": {
    "name": "ipython",
    "version": 3
   },
   "file_extension": ".py",
   "mimetype": "text/x-python",
   "name": "python",
   "nbconvert_exporter": "python",
   "pygments_lexer": "ipython3",
   "version": "3.10.12"
  }
 },
 "nbformat": 4,
 "nbformat_minor": 5
}
